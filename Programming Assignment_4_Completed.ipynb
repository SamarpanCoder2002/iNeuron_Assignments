{
 "cells": [
  {
   "cell_type": "code",
   "execution_count": 1,
   "id": "8eb7c7d5",
   "metadata": {},
   "outputs": [
    {
     "name": "stdout",
     "output_type": "stream",
     "text": [
      "Enter a number12345\n",
      "[5, 4, 3, 2, 1]\n"
     ]
    }
   ],
   "source": [
    "#4. Write a Python Program to Check Armstrong Number?\n",
    "num = int(input('Enter a number'))\n",
    "store = []\n",
    "while num != 0:\n",
    "    store.append(num % 10)\n",
    "    num = num // 10\n",
    "print(store)"
   ]
  },
  {
   "cell_type": "code",
   "execution_count": 2,
   "id": "ac2dc6c5",
   "metadata": {},
   "outputs": [
    {
     "name": "stdout",
     "output_type": "stream",
     "text": [
      "Enter the range: 50\n",
      "Fibo Series:  [1, 1, 2, 3, 5, 8, 13, 21, 34, 55, 89, 144, 233, 377, 610, 987, 1597, 2584, 4181, 6765, 10946, 17711, 28657, 46368, 75025, 121393, 196418, 317811, 514229, 832040, 1346269, 2178309, 3524578, 5702887, 9227465, 14930352, 24157817, 39088169, 63245986, 102334155, 165580141, 267914296, 433494437, 701408733, 1134903170, 1836311903, 2971215073, 4807526976, 7778742049, 12586269025]\n"
     ]
    }
   ],
   "source": [
    "#3. Write a Python Program to Print the Fibonacci sequence?\n",
    "num = int(input('Enter the range: '))\n",
    "store = [1,1]\n",
    "def getFiboNum(term):\n",
    "    if term == 0 or term == 1:\n",
    "        return store[term]\n",
    "    elif term < len(store):\n",
    "        return store[term]\n",
    "    else:\n",
    "        store.append(store[term-1]+store[term-2])\n",
    "        return store[term];\n",
    "\n",
    "for i in range(0,num):\n",
    "    getFiboNum(i)\n",
    "\n",
    "print('Fibo Series: ', store)\n"
   ]
  },
  {
   "cell_type": "code",
   "execution_count": 3,
   "id": "a29ff580",
   "metadata": {},
   "outputs": [
    {
     "name": "stdout",
     "output_type": "stream",
     "text": [
      "Enter a number6\n",
      "6*1=6\n",
      "6*2=12\n",
      "6*3=18\n",
      "6*4=24\n",
      "6*5=30\n",
      "6*6=36\n",
      "6*7=42\n",
      "6*8=48\n",
      "6*9=54\n",
      "6*10=60\n"
     ]
    }
   ],
   "source": [
    "#2. Write a Python Program to Display the multiplication Table?\n",
    "num = int(input('Enter a number'))\n",
    "for i in range(1,10+1):\n",
    "    print('{0}*{1}={2}'.format(num,i,num*i))"
   ]
  },
  {
   "cell_type": "code",
   "execution_count": 4,
   "id": "a1c278a0",
   "metadata": {},
   "outputs": [
    {
     "name": "stdout",
     "output_type": "stream",
     "text": [
      "Enter a number7\n",
      "Factorial of the number is:  5040\n"
     ]
    }
   ],
   "source": [
    "##1. Write a Python Program to Find the Factorial of a Number?\n",
    "num = int(input('Enter a number'))\n",
    "fact = 1\n",
    "while num > 0:\n",
    "    fact *= num\n",
    "    num -= 1\n",
    "    \n",
    "print('Factorial of the number is: ', fact)"
   ]
  },
  {
   "cell_type": "code",
   "execution_count": 6,
   "id": "e43db8f4",
   "metadata": {},
   "outputs": [
    {
     "name": "stdout",
     "output_type": "stream",
     "text": [
      "Enter start number5\n",
      "Enter last number20\n",
      "120 720 5040 40320 362880 3628800 39916800 479001600 6227020800 87178291200 1307674368000 20922789888000 355687428096000 6402373705728000 121645100408832000 2432902008176640000 "
     ]
    }
   ],
   "source": [
    "#5. Write a Python Program to Find Armstrong Number in an Interval?\n",
    "first = int(input('Enter start number'))\n",
    "second = int(input('Enter last number'))\n",
    "\n",
    "for val in range(first, second + 1):\n",
    "    fact = 1\n",
    "    while val > 0:\n",
    "        fact *= val\n",
    "        val -= 1\n",
    "    print(fact, end = ' ')"
   ]
  },
  {
   "cell_type": "code",
   "execution_count": 8,
   "id": "f32f5d30",
   "metadata": {},
   "outputs": [
    {
     "name": "stdout",
     "output_type": "stream",
     "text": [
      "Enter total number: 100\n",
      "Sum of 100 natural numbers 5050\n"
     ]
    }
   ],
   "source": [
    "#6. Write a Python Program to Find the Sum of Natural Numbers?\n",
    "term = int(input('Enter total number: '))\n",
    "sum = 0\n",
    "for val in range(1, term + 1):\n",
    "    sum += val\n",
    "print('Sum of {0} natural numbers {1}'.format(term,sum))"
   ]
  },
  {
   "cell_type": "code",
   "execution_count": null,
   "id": "83b66329",
   "metadata": {},
   "outputs": [],
   "source": []
  }
 ],
 "metadata": {
  "kernelspec": {
   "display_name": "Python 3 (ipykernel)",
   "language": "python",
   "name": "python3"
  },
  "language_info": {
   "codemirror_mode": {
    "name": "ipython",
    "version": 3
   },
   "file_extension": ".py",
   "mimetype": "text/x-python",
   "name": "python",
   "nbconvert_exporter": "python",
   "pygments_lexer": "ipython3",
   "version": "3.9.12"
  }
 },
 "nbformat": 4,
 "nbformat_minor": 5
}
