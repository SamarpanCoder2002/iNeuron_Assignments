{
 "cells": [
  {
   "cell_type": "code",
   "execution_count": 13,
   "id": "a33b1a8b",
   "metadata": {},
   "outputs": [
    {
     "name": "stdout",
     "output_type": "stream",
     "text": [
      "Enter total term: 15\n",
      "0 1 1 2 3 5 8 13 21 34 55 89 144 233 377 "
     ]
    }
   ],
   "source": [
    "#1. Write a Python Program to Display Fibonacci Sequence Using Recursion?\n",
    "store = [0,1];\n",
    "def getFiboNum(term):\n",
    "    if term == 0 or term == 1:\n",
    "        return store[term]\n",
    "    elif term < len(store):\n",
    "        return store[term]\n",
    "    else:\n",
    "        store.append(getFiboNum(term-1)+getFiboNum(term-2))\n",
    "        return store[term]\n",
    "        \n",
    "total = int(input('Enter total term: '))        \n",
    "\n",
    "for i in range(total):\n",
    "    print(getFiboNum(i), end=\" \")\n",
    "        "
   ]
  },
  {
   "cell_type": "code",
   "execution_count": 23,
   "id": "b969c9fb",
   "metadata": {},
   "outputs": [
    {
     "name": "stdout",
     "output_type": "stream",
     "text": [
      "Enter a number: 7\n",
      "Factorial of the given no is:  5040\n"
     ]
    }
   ],
   "source": [
    "#2. Write a Python Program to Find Factorial of Number Using Recursion?\n",
    "n = int(input('Enter a number: '))\n",
    "\n",
    "def fact(num, factData=1):\n",
    "    if num == 0:\n",
    "        return factData\n",
    "    factData *= num;\n",
    "    return fact(num-1, factData)\n",
    "\n",
    "print('Factorial of the given no is: ', fact(n))\n",
    "    "
   ]
  },
  {
   "cell_type": "code",
   "execution_count": 28,
   "id": "53140835",
   "metadata": {},
   "outputs": [
    {
     "name": "stdout",
     "output_type": "stream",
     "text": [
      "Enter your height in cm: 8\n",
      "Enter your weight in kg: 45\n",
      "BMI is: 7031.25\n"
     ]
    }
   ],
   "source": [
    "#3. Write a Python Program to calculate your Body Mass Index?\n",
    "h = float(input(\"Enter your height in cm: \"))\n",
    "w = float(input(\"Enter your weight in kg: \"))\n",
    "\n",
    "bmi = w / (h/100)**2\n",
    "print('BMI is: %0.2f'%bmi)"
   ]
  },
  {
   "cell_type": "code",
   "execution_count": 31,
   "id": "029f2795",
   "metadata": {},
   "outputs": [
    {
     "name": "stdout",
     "output_type": "stream",
     "text": [
      "Enter a number: 8\n",
      "Log of that number:  2.0794415416798357\n"
     ]
    }
   ],
   "source": [
    "#4. Write a Python Program to calculate the natural logarithm of any number?\n",
    "import math\n",
    "n = int(input('Enter a number: '))\n",
    "print('Log of that number: ', math.log(n))\n"
   ]
  },
  {
   "cell_type": "code",
   "execution_count": 35,
   "id": "726c66d7",
   "metadata": {},
   "outputs": [
    {
     "name": "stdout",
     "output_type": "stream",
     "text": [
      "Enter total term: 3\n",
      "Sum is:  36\n"
     ]
    }
   ],
   "source": [
    "#5. Write a Python Program for cube sum of first n natural numbers?\n",
    "term = int(input('Enter total term: '))\n",
    "sum = 0\n",
    "for i in range(term+1):\n",
    "    sum += i*i*i\n",
    "print('Sum is: ', sum)"
   ]
  },
  {
   "cell_type": "code",
   "execution_count": null,
   "id": "6fe77232",
   "metadata": {},
   "outputs": [],
   "source": []
  }
 ],
 "metadata": {
  "kernelspec": {
   "display_name": "Python 3 (ipykernel)",
   "language": "python",
   "name": "python3"
  },
  "language_info": {
   "codemirror_mode": {
    "name": "ipython",
    "version": 3
   },
   "file_extension": ".py",
   "mimetype": "text/x-python",
   "name": "python",
   "nbconvert_exporter": "python",
   "pygments_lexer": "ipython3",
   "version": "3.9.12"
  }
 },
 "nbformat": 4,
 "nbformat_minor": 5
}
