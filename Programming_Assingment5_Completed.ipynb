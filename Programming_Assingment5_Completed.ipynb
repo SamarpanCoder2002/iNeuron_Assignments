{
 "cells": [
  {
   "cell_type": "code",
   "execution_count": 6,
   "id": "bed3c271",
   "metadata": {},
   "outputs": [
    {
     "name": "stdout",
     "output_type": "stream",
     "text": [
      "Enter first number4\n",
      "Enter second number16\n",
      "LCM is:  16\n"
     ]
    }
   ],
   "source": [
    "#1. Write a Python Program to Find LCM?\n",
    "a = int(input('Enter first number'))\n",
    "b = int(input('Enter second number'))\n",
    "\n",
    "if a > b:\n",
    "    L = a\n",
    "else:\n",
    "    L = b\n",
    "\n",
    "while L <= a*b:\n",
    "    if L%a == 0 and L%b == 0:\n",
    "        print(\"LCM is: \", L)\n",
    "        break\n",
    "    else:\n",
    "        L += 1"
   ]
  },
  {
   "cell_type": "code",
   "execution_count": 11,
   "id": "ba1cf549",
   "metadata": {},
   "outputs": [
    {
     "name": "stdout",
     "output_type": "stream",
     "text": [
      "Enter first number16\n",
      "Enter second number12\n",
      "HCF is:  4\n"
     ]
    }
   ],
   "source": [
    "#2. Write a Python Program to Find HCF?\n",
    "a = int(input('Enter first number'))\n",
    "b = int(input('Enter second number'))\n",
    "\n",
    "if a < b:\n",
    "    H = a\n",
    "else:\n",
    "    H = b\n",
    "\n",
    "while H >= 1:\n",
    "    if a%H == 0 and b%H == 0:\n",
    "        print(\"HCF is: \", H)\n",
    "        break\n",
    "    else:\n",
    "        H -= 1"
   ]
  },
  {
   "cell_type": "code",
   "execution_count": 20,
   "id": "5bdd760d",
   "metadata": {},
   "outputs": [
    {
     "name": "stdout",
     "output_type": "stream",
     "text": [
      "Enter a number9999\n",
      "After Converting to binary: \n",
      "0 1 0 0 1 1 1 0 0 0 0 1 1 1 1 \n",
      "After Converting to oct: \n",
      "0 2 3 4 1 7 \n",
      "After Converting to hex: \n",
      "0 2 7 0 F "
     ]
    }
   ],
   "source": [
    "#3. Write a Python Program to Convert Decimal to Binary, Octal and Hexadecimal?\n",
    "num = int(input(\"Enter a number\"))\n",
    "\n",
    "def decToBin(num):\n",
    "    if num >= 1:\n",
    "        decToBin(num // 2)\n",
    "    print(num % 2, end = ' ')\n",
    "    \n",
    "def decToOct(num):\n",
    "    if num >= 1:\n",
    "        decToOct(num // 8)\n",
    "    print(num % 8, end = ' ')\n",
    "    \n",
    "def getHexDetection(val):\n",
    "    if val == 10:\n",
    "        return 'A'\n",
    "    elif val == 11:\n",
    "        return 'B'\n",
    "    elif val == 12:\n",
    "        return 'C'\n",
    "    elif val == 13:\n",
    "        return 'D'\n",
    "    elif val == 14:\n",
    "        return 'E'\n",
    "    elif val == 15:\n",
    "        return 'F'\n",
    "    else:\n",
    "        return val\n",
    "    \n",
    "def decToHex(num):\n",
    "    if num >= 1:\n",
    "        decToHex(num // 16)\n",
    "    print(getHexDetection(num % 16), end = ' ')\n",
    "\n",
    "print(\"After Converting to binary: \")\n",
    "decToBin(num);\n",
    "\n",
    "print(\"\\nAfter Converting to oct: \")\n",
    "decToOct(num);\n",
    "\n",
    "print(\"\\nAfter Converting to hex: \")\n",
    "decToHex(num);\n",
    "\n"
   ]
  },
  {
   "cell_type": "code",
   "execution_count": 22,
   "id": "a520976a",
   "metadata": {},
   "outputs": [
    {
     "name": "stdout",
     "output_type": "stream",
     "text": [
      "Enter a character: A\n",
      "ASCII Value:  65\n"
     ]
    }
   ],
   "source": [
    "#4. Write a Python Program To Find ASCII value of a character?\n",
    "c= str(input('Enter a character: '))\n",
    "print('ASCII Value: ', ord(c))\n"
   ]
  },
  {
   "cell_type": "code",
   "execution_count": 25,
   "id": "511b4b87",
   "metadata": {},
   "outputs": [
    {
     "name": "stdout",
     "output_type": "stream",
     "text": [
      "Enter first number: 4\n",
      "Enter second number: 9\n",
      "\n",
      "Select Operation Number:  1) Sum  2) Substract  3) Multiply  4) Divide\n",
      "3\n",
      "Multiply is:  36\n"
     ]
    }
   ],
   "source": [
    "#5. Write a Python Program to Make a Simple Calculator with 4 basic mathematical operations?\n",
    "a = int(input('Enter first number: '))\n",
    "b = int(input('Enter second number: '))\n",
    "print(\"\\nSelect Operation Number:  1) Sum  2) Substract  3) Multiply  4) Divide\")\n",
    "op = int(input(''))\n",
    "\n",
    "if op == 1:\n",
    "    print('Sum is: ', a+b)\n",
    "elif op == 2:\n",
    "    print(\"Substract is: \", a-b)\n",
    "elif op == 3:\n",
    "    print('Multiply is: ', a*b)\n",
    "elif op == 4:\n",
    "    print('Divide is: ', a/b)\n",
    "else:\n",
    "    print('Invalid Operation Number')\n",
    "    \n"
   ]
  },
  {
   "cell_type": "code",
   "execution_count": null,
   "id": "6ecbe978",
   "metadata": {},
   "outputs": [],
   "source": []
  }
 ],
 "metadata": {
  "kernelspec": {
   "display_name": "Python 3 (ipykernel)",
   "language": "python",
   "name": "python3"
  },
  "language_info": {
   "codemirror_mode": {
    "name": "ipython",
    "version": 3
   },
   "file_extension": ".py",
   "mimetype": "text/x-python",
   "name": "python",
   "nbconvert_exporter": "python",
   "pygments_lexer": "ipython3",
   "version": "3.9.12"
  }
 },
 "nbformat": 4,
 "nbformat_minor": 5
}
