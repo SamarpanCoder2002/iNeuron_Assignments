{
 "cells": [
  {
   "cell_type": "code",
   "execution_count": 1,
   "id": "14352c38",
   "metadata": {},
   "outputs": [
    {
     "name": "stdout",
     "output_type": "stream",
     "text": [
      "Enter kilometer: 1.2\n",
      "After converting to mile: 0.75\n"
     ]
    }
   ],
   "source": [
    "#1. Write a Python program to convert kilometers to miles?\n",
    "kilometer = float(input(\"Enter kilometer: \"))\n",
    "mile = kilometer * 0.62137\n",
    "print('After converting to mile: %0.2f' %mile)"
   ]
  },
  {
   "cell_type": "code",
   "execution_count": 2,
   "id": "21efe6c1",
   "metadata": {},
   "outputs": [
    {
     "name": "stdout",
     "output_type": "stream",
     "text": [
      "Enter temp in celcius: 37\n",
      "Temp in Fahrenheit: 98.6\n"
     ]
    }
   ],
   "source": [
    "# 2. Write a Python program to convert Celsius to Fahrenheit?\n",
    "cel = float(input('Enter temp in celcius: '))\n",
    "f = ((9*cel)/5) + 32\n",
    "print('Temp in Fahrenheit: %0.1f' %f)\n"
   ]
  },
  {
   "cell_type": "code",
   "execution_count": 16,
   "id": "5f1aafec",
   "metadata": {},
   "outputs": [
    {
     "name": "stdout",
     "output_type": "stream",
     "text": [
      "Enter year: 2022\n",
      "Enter month: 7\n",
      "     July 2022\n",
      "Mo Tu We Th Fr Sa Su\n",
      "             1  2  3\n",
      " 4  5  6  7  8  9 10\n",
      "11 12 13 14 15 16 17\n",
      "18 19 20 21 22 23 24\n",
      "25 26 27 28 29 30 31\n",
      "\n"
     ]
    }
   ],
   "source": [
    "# 3. Write a Python program to display calendar?\n",
    "import calendar\n",
    "year = int(input(\"Enter year: \"))\n",
    "month = int(input(\"Enter month: \"))\n",
    "print(calendar.month(year, month))"
   ]
  },
  {
   "cell_type": "code",
   "execution_count": 20,
   "id": "efdbe8f8",
   "metadata": {},
   "outputs": [
    {
     "name": "stdout",
     "output_type": "stream",
     "text": [
      "Values are (-1.25+1.3919410907075054j) and (-1.25-1.3919410907075054j)\n"
     ]
    }
   ],
   "source": [
    "# 4. Write a Python program to solve quadratic equation?\n",
    "import cmath\n",
    "a = 2\n",
    "b = 5\n",
    "c = 7\n",
    "\n",
    "root = cmath.sqrt((b ** 2) - (4*a*c))\n",
    "firstVal = (-b + root)/(2*a)\n",
    "secondVal = (-b - root)/(2*a)\n",
    "\n",
    "print('Values are {0} and {1}'.format(firstVal, secondVal))\n"
   ]
  },
  {
   "cell_type": "code",
   "execution_count": 21,
   "id": "3e9970b0",
   "metadata": {},
   "outputs": [
    {
     "name": "stdout",
     "output_type": "stream",
     "text": [
      "After swiping\n",
      "First val:  7\n",
      "Second Val:  6\n"
     ]
    }
   ],
   "source": [
    "# 5. Write a Python program to swap two variables without temp variable?\n",
    "a = 6\n",
    "b = 7\n",
    "a = a+b\n",
    "b = a-b\n",
    "a = a-b\n",
    "\n",
    "print(\"After swiping\")\n",
    "print('First val: ', a)\n",
    "print('Second Val: ',b)"
   ]
  },
  {
   "cell_type": "code",
   "execution_count": null,
   "id": "fc9d3334",
   "metadata": {},
   "outputs": [],
   "source": []
  }
 ],
 "metadata": {
  "kernelspec": {
   "display_name": "Python 3 (ipykernel)",
   "language": "python",
   "name": "python3"
  },
  "language_info": {
   "codemirror_mode": {
    "name": "ipython",
    "version": 3
   },
   "file_extension": ".py",
   "mimetype": "text/x-python",
   "name": "python",
   "nbconvert_exporter": "python",
   "pygments_lexer": "ipython3",
   "version": "3.9.12"
  }
 },
 "nbformat": 4,
 "nbformat_minor": 5
}
