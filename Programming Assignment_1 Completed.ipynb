{
 "cells": [
  {
   "cell_type": "code",
   "execution_count": 2,
   "id": "c355d185",
   "metadata": {},
   "outputs": [
    {
     "name": "stdout",
     "output_type": "stream",
     "text": [
      "Hello Python\n"
     ]
    }
   ],
   "source": [
    "# Write a Python program to print 'Hello Python'?\n",
    "print('Hello Python')"
   ]
  },
  {
   "cell_type": "code",
   "execution_count": 3,
   "id": "3ac73a52",
   "metadata": {},
   "outputs": [
    {
     "name": "stdout",
     "output_type": "stream",
     "text": [
      "Addition:  7\n",
      "Division:  1.6666666666666667\n"
     ]
    }
   ],
   "source": [
    "# Write a Python program to do arithmetical operations addition and division.?\n",
    "print('Addition: ', 2+5)\n",
    "print('Division: ', 5/3)"
   ]
  },
  {
   "cell_type": "code",
   "execution_count": 9,
   "id": "ba21df83",
   "metadata": {},
   "outputs": [
    {
     "name": "stdout",
     "output_type": "stream",
     "text": [
      "Enter First side: 5\n",
      "Enter Second side: 6\n",
      "Enter third side: 7\n",
      "Area of the traingle is: 14.697\n"
     ]
    }
   ],
   "source": [
    "# Write a Python program to find the area of a triangle?\n",
    "first = float(input('Enter First side: '))\n",
    "second = float(input('Enter Second side: '))\n",
    "third = float(input('Enter third side: '))\n",
    "\n",
    "s = (first + second + third) / 2\n",
    "area = (s*(s-first)*(s-second)*(s-third)) ** 0.5\n",
    "\n",
    "print('Area of the traingle is: %0.3f' %area)"
   ]
  },
  {
   "cell_type": "code",
   "execution_count": 11,
   "id": "02d6cbf2",
   "metadata": {},
   "outputs": [
    {
     "name": "stdout",
     "output_type": "stream",
     "text": [
      "Enter first integer: 5\n",
      "Enter second integer: 6\n",
      "After Swap- \n",
      "First Number is:  6\n",
      "Second Number is:  5\n"
     ]
    }
   ],
   "source": [
    "# Write a Python program to swap two variables?\n",
    "a = int(input('Enter first integer: '))\n",
    "b = int(input('Enter second integer: '))\n",
    "a = a+b\n",
    "b = a-b\n",
    "a = a-b\n",
    "\n",
    "print('After Swap- ')\n",
    "print('First Number is: ', a)\n",
    "print('Second Number is: ', b)"
   ]
  },
  {
   "cell_type": "code",
   "execution_count": 14,
   "id": "35af5de3",
   "metadata": {},
   "outputs": [
    {
     "name": "stdout",
     "output_type": "stream",
     "text": [
      "Random number is:   28\n"
     ]
    }
   ],
   "source": [
    "# Write a Python program to generate a random number?\n",
    "import random\n",
    "print('Random number is:  ', random.randint(0,100))"
   ]
  },
  {
   "cell_type": "markdown",
   "id": "8945d963",
   "metadata": {},
   "source": []
  }
 ],
 "metadata": {
  "kernelspec": {
   "display_name": "Python 3 (ipykernel)",
   "language": "python",
   "name": "python3"
  },
  "language_info": {
   "codemirror_mode": {
    "name": "ipython",
    "version": 3
   },
   "file_extension": ".py",
   "mimetype": "text/x-python",
   "name": "python",
   "nbconvert_exporter": "python",
   "pygments_lexer": "ipython3",
   "version": "3.9.12"
  }
 },
 "nbformat": 4,
 "nbformat_minor": 5
}
