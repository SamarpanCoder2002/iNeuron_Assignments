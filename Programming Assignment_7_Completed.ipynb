{
 "cells": [
  {
   "cell_type": "code",
   "execution_count": 4,
   "id": "dda0c99d",
   "metadata": {},
   "outputs": [
    {
     "name": "stdout",
     "output_type": "stream",
     "text": [
      "Enter the total number will have in the array: 10\n",
      "Enter 10 numbers\n",
      "1\n",
      "2\n",
      "3\n",
      "4\n",
      "5\n",
      "6\n",
      "7\n",
      "8\n",
      "9\n",
      "10\n",
      "Sum of array is:  55\n"
     ]
    }
   ],
   "source": [
    "#1. Write a Python Program to find sum of array?\n",
    "store = []\n",
    "total = int(input('Enter the total number will have in the array: '))\n",
    "print('Enter {0} numbers'.format(total))\n",
    "for term in range(total):\n",
    "    n = int(input(''))\n",
    "    store.append(n)\n",
    "sum = 0\n",
    "for val in store:\n",
    "    sum += val\n",
    "print('Sum of array is: ',sum)"
   ]
  },
  {
   "cell_type": "code",
   "execution_count": 5,
   "id": "1461426a",
   "metadata": {},
   "outputs": [
    {
     "name": "stdout",
     "output_type": "stream",
     "text": [
      "Largest Element in the array is:  81\n"
     ]
    }
   ],
   "source": [
    "#2. Write a Python Program to find largest element in an array?\n",
    "l = [1,7,5,81,5,4,5,54]\n",
    "print('Largest Element in the array is: ', max(l))"
   ]
  },
  {
   "cell_type": "code",
   "execution_count": 6,
   "id": "921dbf1e",
   "metadata": {},
   "outputs": [
    {
     "name": "stdout",
     "output_type": "stream",
     "text": [
      "After array rotation\n",
      "[8, 77, 8, 7, 2, 8, 1, 81, 5, 7]\n"
     ]
    }
   ],
   "source": [
    "#3. Write a Python Program for array rotation?\n",
    "l = [7,5,81,1,8,2,7,8,77,8]\n",
    "print('After array rotation')\n",
    "print(l[::-1])"
   ]
  },
  {
   "cell_type": "code",
   "execution_count": 14,
   "id": "be0163b5",
   "metadata": {},
   "outputs": [
    {
     "name": "stdout",
     "output_type": "stream",
     "text": [
      "[6, 7, 8, 9, 10, 1, 2, 3, 4, 5]\n"
     ]
    }
   ],
   "source": [
    "#4. Write a Python Program to Split the array and add the first part to the end?\n",
    "import numpy as np\n",
    "l = [1,2,3,4,5,6,7,8,9,10]\n",
    "arr = np.array(l)\n",
    "newArrColl = np.array_split(arr, 2)\n",
    "revArr = list(newArrColl[1])+list(newArrColl[0])\n",
    "print(revArr)"
   ]
  },
  {
   "cell_type": "code",
   "execution_count": 20,
   "id": "66c1c1aa",
   "metadata": {},
   "outputs": [
    {
     "name": "stdout",
     "output_type": "stream",
     "text": [
      "True\n"
     ]
    }
   ],
   "source": [
    "#5. Write a Python Program to check if given array is Monotonic?\n",
    "def isMonotonic(arr): # Monotonic means stricly increasing or stricly decreasing\n",
    "    return (all(arr[i] <= arr[i+1] for i in range(len(arr)-1)) or all(arr[i] >= arr[i+1] for i in range(len(arr)-1)))\n",
    "\n",
    "arr = [8,7,6,5]\n",
    "print(isMonotonic(arr))"
   ]
  },
  {
   "cell_type": "code",
   "execution_count": null,
   "id": "984e81a2",
   "metadata": {},
   "outputs": [],
   "source": []
  }
 ],
 "metadata": {
  "kernelspec": {
   "display_name": "Python 3 (ipykernel)",
   "language": "python",
   "name": "python3"
  },
  "language_info": {
   "codemirror_mode": {
    "name": "ipython",
    "version": 3
   },
   "file_extension": ".py",
   "mimetype": "text/x-python",
   "name": "python",
   "nbconvert_exporter": "python",
   "pygments_lexer": "ipython3",
   "version": "3.9.12"
  }
 },
 "nbformat": 4,
 "nbformat_minor": 5
}
